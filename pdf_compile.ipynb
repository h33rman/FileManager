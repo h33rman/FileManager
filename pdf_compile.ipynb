{
 "cells": [
  {
   "cell_type": "code",
   "id": "initial_id",
   "metadata": {
    "collapsed": true,
    "ExecuteTime": {
     "end_time": "2025-01-02T14:01:55.730253Z",
     "start_time": "2025-01-02T14:01:55.625919Z"
    }
   },
   "source": [
    "import os\n",
    "from PyPDF2 import PdfMerger"
   ],
   "outputs": [],
   "execution_count": 1
  },
  {
   "metadata": {
    "ExecuteTime": {
     "end_time": "2025-01-02T14:04:18.807449Z",
     "start_time": "2025-01-02T14:04:18.791569Z"
    }
   },
   "cell_type": "code",
   "source": [
    "def merge_pdfs_in_folder(folder_path):\n",
    "    for root, dirs, files in os.walk(folder_path):\n",
    "        for dir_name in dirs:\n",
    "            dir_path = os.path.join(root, dir_name)\n",
    "            pdf_files = [os.path.join(dir_path, f) for f in os.listdir(dir_path) if f.endswith('.pdf')]\n",
    "            if pdf_files:\n",
    "                merger = PdfMerger()\n",
    "                for pdf in pdf_files:\n",
    "                    merger.append(pdf)\n",
    "                output_path = os.path.join(folder_path, f\"{dir_name}.pdf\")\n",
    "                with open(output_path, 'wb') as output_pdf:\n",
    "                    merger.write(output_pdf)\n",
    "                merger.close()\n",
    "\n",
    "# Replace 'your_folder_path' with the path to your main folder\n",
    "merge_pdfs_in_folder('/home/herman/Downloads/Compressed/PAC-2025/PAC')"
   ],
   "id": "33f3b884379f093f",
   "outputs": [],
   "execution_count": 6
  },
  {
   "metadata": {
    "ExecuteTime": {
     "end_time": "2025-01-02T14:03:26.890835Z",
     "start_time": "2025-01-02T14:03:26.879985Z"
    }
   },
   "cell_type": "code",
   "source": "",
   "id": "4367af2cc85b5f",
   "outputs": [],
   "execution_count": 5
  },
  {
   "metadata": {},
   "cell_type": "code",
   "outputs": [],
   "execution_count": null,
   "source": "",
   "id": "c645a8cfeefead16"
  }
 ],
 "metadata": {
  "kernelspec": {
   "display_name": "Python 3",
   "language": "python",
   "name": "python3"
  },
  "language_info": {
   "codemirror_mode": {
    "name": "ipython",
    "version": 2
   },
   "file_extension": ".py",
   "mimetype": "text/x-python",
   "name": "python",
   "nbconvert_exporter": "python",
   "pygments_lexer": "ipython2",
   "version": "2.7.6"
  }
 },
 "nbformat": 4,
 "nbformat_minor": 5
}
